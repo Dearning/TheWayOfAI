{
 "cells": [
  {
   "cell_type": "code",
   "execution_count": 1,
   "metadata": {},
   "outputs": [],
   "source": [
    "#导入相应库\n",
    "import tensorflow.compat.v1 as tf \n",
    "from IPython.display import Image\n",
    "#tf.disable_eager_execution()  #关闭eager运算\n",
    "#tf.disable_v2_behavior()    #禁用TensorFlow 2.x行为\n",
    "import numpy as np\n",
    "from tensorflow import keras\n",
    "import matplotlib.pyplot as plt\n",
    "\n",
    "%matplotlib inline"
   ]
  },
  {
   "cell_type": "code",
   "execution_count": 2,
   "metadata": {},
   "outputs": [
    {
     "name": "stdout",
     "output_type": "stream",
     "text": [
      "WARNING:tensorflow:From G:\\CSSoftware\\anaconda3\\envs\\tensorflow2\\lib\\site-packages\\tensorflow\\python\\compat\\v2_compat.py:101: disable_resource_variables (from tensorflow.python.ops.variable_scope) is deprecated and will be removed in a future version.\n",
      "Instructions for updating:\n",
      "non-resource variables are not supported in the long term\n"
     ]
    }
   ],
   "source": [
    "tf.disable_v2_behavior()\n",
    "#清除default_graph和不断增加的节点\n",
    "tf.reset_default_graph()\n",
    "\n",
    "#路径\n",
    "logdir=\"D:/log\"\n"
   ]
  },
  {
   "cell_type": "code",
   "execution_count": 3,
   "metadata": {},
   "outputs": [],
   "source": [
    "# 区间变换,[0,100]化为[-1,1]\n",
    "def Convert(data,Min,Max,size):\n",
    "    # data：需要变换的数据或矩阵\n",
    "    # Min：最小值        \n",
    "    # Max：最大值\n",
    "    #size:样本个数\n",
    "    data = np.array(data)\n",
    "    Size = size\n",
    "    w = -2/(Min - Max)\n",
    "    b = (Min + Max)/(Min - Max)\n",
    "    for i in range(Size):\n",
    "        data[i] = data[i]*w + b\n",
    "    return data"
   ]
  },
  {
   "cell_type": "code",
   "execution_count": 4,
   "metadata": {},
   "outputs": [],
   "source": [
    "#生成500个在0到100之间等差数\n",
    "x_data=np.linspace(0,100,500)\n",
    "x_data=Convert(x_data,0,100,500)#数据归一化\n",
    "np.random.seed(5)  #设置随机数种子\n",
    "#增设噪音,最大幅度0.4\n",
    "y_data= 3.1234*x_data+2.98+np.random.randn(*x_data.shape) *0.4"
   ]
  },
  {
   "cell_type": "code",
   "execution_count": 5,
   "metadata": {},
   "outputs": [
    {
     "data": {
      "text/plain": [
       "[<matplotlib.lines.Line2D at 0x139004af508>]"
      ]
     },
     "execution_count": 5,
     "metadata": {},
     "output_type": "execute_result"
    },
    {
     "data": {
      "image/png": "[encoded data removed]",
      "text/plain": [
       "<Figure size 432x288 with 1 Axes>"
      ]
     },
     "metadata": {
      "needs_background": "light"
     },
     "output_type": "display_data"
    }
   ],
   "source": [
    "#分别画出数据散点图和所需的目标函数\n",
    "plt.scatter(x_data,y_data)\n",
    "plt.plot(x_data,2.98+3.1234*x_data,'r',linewidth=3.5)\n",
    "\n"
   ]
  },
  {
   "cell_type": "code",
   "execution_count": 6,
   "metadata": {},
   "outputs": [],
   "source": [
    "#定义数据的占位符,x为特征值，y为标签值\n",
    "x = tf.placeholder(\"float\", name = \"x\")\n",
    "y = tf.placeholder(\"float\",name =\"y\")"
   ]
  },
  {
   "cell_type": "code",
   "execution_count": 9,
   "metadata": {},
   "outputs": [],
   "source": [
    "#构造回归模型（实现预测计算）\n",
    "def model(x,w,b):\n",
    "    return tf.multiply(x,w)+b\n"
   ]
  },
  {
   "cell_type": "code",
   "execution_count": 11,
   "metadata": {},
   "outputs": [],
   "source": [
    "#创建待优化变量\n",
    "#w为斜率，b为截距\n",
    "#构建线性函数的斜率，变量w\n",
    "w = tf.Variable(1.0,name=\"w0\")\n",
    "#构建线性函数的截距，变量b\n",
    "b = tf.Variable(0.0,name=\"b0\")\n",
    "#pred是预测值，前向计算\n",
    "pred = model(x,w,b)"
   ]
  },
  {
   "cell_type": "code",
   "execution_count": 12,
   "metadata": {},
   "outputs": [],
   "source": [
    "#定义均方差损失函数\n",
    "def loss(x,y,w,b):\n",
    "    err=model(x,w,b)-y\n",
    "    squared_err=tf.square(err)#求平方，得出方差\n",
    "    return tf.reduce_mean(squared_err)#求均方差\n",
    "    "
   ]
  },
  {
   "cell_type": "code",
   "execution_count": 13,
   "metadata": {},
   "outputs": [],
   "source": [
    "#训练模型\n",
    "#设置训练超参数\n",
    "train_epochs=10  #10轮训练\n",
    "learning_rate=0.0001  #学习率\n",
    "step = 0\n",
    "display_step = 20   #显示的步数\n",
    "loss_list = []   #初始化空列表，用于保存损失值\n",
    "\n",
    "#采用均方差作为损失函数\n",
    "loss_function = tf.reduce_mean(tf.square(y-pred))\n",
    "\n",
    "#梯度下降优化器\n",
    "optimizer = tf.train.GradientDescentOptimizer(learning_rate).minimize(loss_function)"
   ]
  },
  {
   "cell_type": "code",
   "execution_count": 14,
   "metadata": {},
   "outputs": [],
   "source": [
    "#声明回话\n",
    "sess = tf.Session()\n",
    "\n",
    "#变量初始化\n",
    "init = tf.global_variables_initializer()\n",
    "sess.run(init)"
   ]
  },
  {
   "cell_type": "code",
   "execution_count": 15,
   "metadata": {},
   "outputs": [
    {
     "name": "stdout",
     "output_type": "stream",
     "text": [
      "Train Epoch:1  Step:20  loss:1.611653924\n",
      "Train Epoch:1  Step:40  loss:3.236391306\n",
      "Train Epoch:1  Step:60  loss:1.921330571\n",
      "Train Epoch:1  Step:80  loss:1.965031028\n",
      "Train Epoch:1  Step:100  loss:3.466061115\n",
      "Train Epoch:1  Step:120  loss:3.303235054\n",
      "Train Epoch:1  Step:140  loss:6.618517876\n",
      "Train Epoch:1  Step:160  loss:4.685081959\n",
      "Train Epoch:1  Step:180  loss:3.949376583\n",
      "Train Epoch:1  Step:200  loss:7.414556503\n",
      "Train Epoch:1  Step:220  loss:4.868532181\n",
      "Train Epoch:1  Step:240  loss:5.237471581\n",
      "Train Epoch:1  Step:260  loss:8.697170258\n",
      "Train Epoch:1  Step:280  loss:7.911894321\n",
      "Train Epoch:1  Step:300  loss:9.499566078\n",
      "Train Epoch:1  Step:320  loss:10.367527962\n",
      "Train Epoch:1  Step:340  loss:10.688569069\n",
      "Train Epoch:1  Step:360  loss:12.416735649\n",
      "Train Epoch:1  Step:380  loss:12.285176277\n",
      "Train Epoch:1  Step:400  loss:20.342725754\n",
      "Train Epoch:1  Step:420  loss:13.865956306\n",
      "Train Epoch:1  Step:440  loss:17.740264893\n",
      "Train Epoch:1  Step:460  loss:19.106615067\n",
      "Train Epoch:1  Step:480  loss:20.735267639\n",
      "Train Epoch:1  Step:500  loss:25.623104095\n",
      "Train Epoch:2  Step:520  loss:1.091408849\n",
      "Train Epoch:2  Step:540  loss:2.466300011\n",
      "Train Epoch:2  Step:560  loss:1.330937624\n",
      "Train Epoch:2  Step:580  loss:1.357889652\n",
      "Train Epoch:2  Step:600  loss:2.627776384\n",
      "Train Epoch:2  Step:620  loss:2.472710371\n",
      "Train Epoch:2  Step:640  loss:5.397496223\n",
      "Train Epoch:2  Step:660  loss:3.650473595\n",
      "Train Epoch:2  Step:680  loss:2.988973141\n",
      "Train Epoch:2  Step:700  loss:6.051221371\n",
      "Train Epoch:2  Step:720  loss:3.758912563\n",
      "Train Epoch:2  Step:740  loss:4.065134048\n",
      "Train Epoch:2  Step:760  loss:7.140214443\n",
      "Train Epoch:2  Step:780  loss:6.407050133\n",
      "Train Epoch:2  Step:800  loss:7.817492008\n",
      "Train Epoch:2  Step:820  loss:8.580294609\n",
      "Train Epoch:2  Step:840  loss:8.846411705\n",
      "Train Epoch:2  Step:860  loss:10.396875381\n",
      "Train Epoch:2  Step:880  loss:10.250072479\n",
      "Train Epoch:2  Step:900  loss:17.664255142\n",
      "Train Epoch:2  Step:920  loss:11.645419121\n",
      "Train Epoch:2  Step:940  loss:15.188334465\n",
      "Train Epoch:2  Step:960  loss:16.427860260\n",
      "Train Epoch:2  Step:980  loss:17.915010452\n",
      "Train Epoch:2  Step:1000  loss:22.450906754\n",
      "Train Epoch:3  Step:1020  loss:0.714814186\n",
      "Train Epoch:3  Step:1040  loss:1.869874239\n",
      "Train Epoch:3  Step:1060  loss:0.896311522\n",
      "Train Epoch:3  Step:1080  loss:0.910727501\n",
      "Train Epoch:3  Step:1100  loss:1.976618528\n",
      "Train Epoch:3  Step:1120  loss:1.830907464\n",
      "Train Epoch:3  Step:1140  loss:4.408031940\n",
      "Train Epoch:3  Step:1160  loss:2.830745220\n",
      "Train Epoch:3  Step:1180  loss:2.238752842\n",
      "Train Epoch:3  Step:1200  loss:4.940758228\n",
      "Train Epoch:3  Step:1220  loss:2.880147457\n",
      "Train Epoch:3  Step:1240  loss:3.132776737\n",
      "Train Epoch:3  Step:1260  loss:5.862756729\n",
      "Train Epoch:3  Step:1280  loss:5.179651737\n",
      "Train Epoch:3  Step:1300  loss:6.432153225\n",
      "Train Epoch:3  Step:1320  loss:7.102196693\n",
      "Train Epoch:3  Step:1340  loss:7.321090698\n",
      "Train Epoch:3  Step:1360  loss:8.712347984\n",
      "Train Epoch:3  Step:1380  loss:8.554153442\n",
      "Train Epoch:3  Step:1400  loss:15.383218765\n",
      "Train Epoch:3  Step:1420  loss:9.784771919\n",
      "Train Epoch:3  Step:1440  loss:13.026447296\n",
      "Train Epoch:3  Step:1460  loss:14.151356697\n",
      "Train Epoch:3  Step:1480  loss:15.509982109\n",
      "Train Epoch:3  Step:1500  loss:19.723722458\n",
      "Train Epoch:4  Step:1520  loss:0.447859198\n",
      "Train Epoch:4  Step:1540  loss:1.409928083\n",
      "Train Epoch:4  Step:1560  loss:0.581867993\n",
      "Train Epoch:4  Step:1580  loss:0.587323368\n",
      "Train Epoch:4  Step:1600  loss:1.473449230\n",
      "Train Epoch:4  Step:1620  loss:1.338280320\n",
      "Train Epoch:4  Step:1640  loss:3.606126070\n",
      "Train Epoch:4  Step:1660  loss:2.183256149\n",
      "Train Epoch:4  Step:1680  loss:1.656242132\n",
      "Train Epoch:4  Step:1700  loss:4.036281586\n",
      "Train Epoch:4  Step:1720  loss:2.187171221\n",
      "Train Epoch:4  Step:1740  loss:2.394160032\n",
      "Train Epoch:4  Step:1760  loss:4.814499378\n",
      "Train Epoch:4  Step:1780  loss:4.179308891\n",
      "Train Epoch:4  Step:1800  loss:5.291064739\n",
      "Train Epoch:4  Step:1820  loss:5.879323006\n",
      "Train Epoch:4  Step:1840  loss:6.057727337\n",
      "Train Epoch:4  Step:1860  loss:7.306330681\n",
      "Train Epoch:4  Step:1880  loss:7.140044689\n",
      "Train Epoch:4  Step:1900  loss:13.436713219\n",
      "Train Epoch:4  Step:1920  loss:8.224437714\n",
      "Train Epoch:4  Step:1940  loss:11.192181587\n",
      "Train Epoch:4  Step:1960  loss:12.213531494\n",
      "Train Epoch:4  Step:1980  loss:13.455464363\n",
      "Train Epoch:4  Step:2000  loss:17.374200821\n",
      "Train Epoch:5  Step:2020  loss:0.263838708\n",
      "Train Epoch:5  Step:2040  loss:1.056886673\n",
      "Train Epoch:5  Step:2060  loss:0.359474510\n",
      "Train Epoch:5  Step:2080  loss:0.358977646\n",
      "Train Epoch:5  Step:2100  loss:1.086944461\n",
      "Train Epoch:5  Step:2120  loss:0.963154733\n",
      "Train Epoch:5  Step:2140  loss:2.956100702\n",
      "Train Epoch:5  Step:2160  loss:1.673574567\n",
      "Train Epoch:5  Step:2180  loss:1.207185030\n",
      "Train Epoch:5  Step:2200  loss:3.299572945\n",
      "Train Epoch:5  Step:2220  loss:1.643436432\n",
      "Train Epoch:5  Step:2240  loss:1.811696649\n",
      "Train Epoch:5  Step:2260  loss:3.954212904\n",
      "Train Epoch:5  Step:2280  loss:3.364738464\n",
      "Train Epoch:5  Step:2300  loss:4.351069450\n",
      "Train Epoch:5  Step:2320  loss:4.867248535\n",
      "Train Epoch:5  Step:2340  loss:5.011045933\n",
      "Train Epoch:5  Step:2360  loss:6.131800652\n",
      "Train Epoch:5  Step:2380  loss:5.960236073\n",
      "Train Epoch:5  Step:2400  loss:11.772233963\n",
      "Train Epoch:5  Step:2420  loss:6.914916992\n",
      "Train Epoch:5  Step:2440  loss:9.633459091\n",
      "Train Epoch:5  Step:2460  loss:10.561254501\n",
      "Train Epoch:5  Step:2480  loss:11.697235107\n",
      "Train Epoch:5  Step:2500  loss:15.345730782\n",
      "Train Epoch:6  Step:2520  loss:0.141872808\n",
      "Train Epoch:6  Step:2540  loss:0.787278235\n",
      "Train Epoch:6  Step:2560  loss:0.206970960\n",
      "Train Epoch:6  Step:2580  loss:0.203028351\n",
      "Train Epoch:6  Step:2600  loss:0.792083502\n",
      "Train Epoch:6  Step:2620  loss:0.680209339\n",
      "Train Epoch:6  Step:2640  loss:2.429036140\n",
      "Train Epoch:6  Step:2660  loss:1.273929238\n",
      "Train Epoch:6  Step:2680  loss:0.863991141\n",
      "Train Epoch:6  Step:2700  loss:2.699483156\n",
      "Train Epoch:6  Step:2720  loss:1.219330549\n",
      "Train Epoch:6  Step:2740  loss:1.354864955\n",
      "Train Epoch:6  Step:2760  loss:3.248105049\n",
      "Train Epoch:6  Step:2780  loss:2.702116489\n",
      "Train Epoch:6  Step:2800  loss:3.576672792\n",
      "Train Epoch:6  Step:2820  loss:4.029350281\n",
      "Train Epoch:6  Step:2840  loss:4.143668175\n",
      "Train Epoch:6  Step:2860  loss:5.149826527\n",
      "Train Epoch:6  Step:2880  loss:4.975364208\n",
      "Train Epoch:6  Step:2900  loss:10.345893860\n",
      "Train Epoch:6  Step:2920  loss:5.815053940\n",
      "Train Epoch:6  Step:2940  loss:8.306781769\n",
      "Train Epoch:6  Step:2960  loss:9.150061607\n",
      "Train Epoch:6  Step:2980  loss:10.189852715\n",
      "Train Epoch:6  Step:3000  loss:13.590667725\n",
      "Train Epoch:7  Step:3020  loss:0.065715879\n",
      "Train Epoch:7  Step:3040  loss:0.582522869\n",
      "Train Epoch:7  Step:3060  loss:0.106970921\n",
      "Train Epoch:7  Step:3080  loss:0.101645544\n",
      "Train Epoch:7  Step:3100  loss:0.568921566\n",
      "Train Epoch:7  Step:3120  loss:0.469245166\n",
      "Train Epoch:7  Step:3140  loss:2.001494169\n",
      "Train Epoch:7  Step:3160  loss:0.961942255\n",
      "Train Epoch:7  Step:3180  loss:0.604470551\n",
      "Train Epoch:7  Step:3200  loss:2.210623741\n",
      "Train Epoch:7  Step:3220  loss:0.890885055\n",
      "Train Epoch:7  Step:3240  loss:0.998891890\n",
      "Train Epoch:7  Step:3260  loss:2.668466330\n",
      "Train Epoch:7  Step:3280  loss:2.163733959\n",
      "Train Epoch:7  Step:3300  loss:2.938672543\n",
      "Train Epoch:7  Step:3320  loss:3.335425854\n",
      "Train Epoch:7  Step:3340  loss:3.424722910\n",
      "Train Epoch:7  Step:3360  loss:4.328125477\n",
      "Train Epoch:7  Step:3380  loss:4.152767181\n",
      "Train Epoch:7  Step:3400  loss:9.120938301\n",
      "Train Epoch:7  Step:3420  loss:4.890579224\n",
      "Train Epoch:7  Step:3440  loss:7.175755501\n",
      "Train Epoch:7  Step:3460  loss:7.942676544\n",
      "Train Epoch:7  Step:3480  loss:8.895120621\n",
      "Train Epoch:7  Step:3500  loss:12.068804741\n",
      "Train Epoch:8  Step:3520  loss:0.022806939\n",
      "Train Epoch:8  Step:3540  loss:0.427959025\n",
      "Train Epoch:8  Step:3560  loss:0.045899294\n",
      "Train Epoch:8  Step:3580  loss:0.040868714\n",
      "Train Epoch:8  Step:3600  loss:0.401601315\n",
      "Train Epoch:8  Step:3620  loss:0.314191222\n",
      "Train Epoch:8  Step:3640  loss:1.654499769\n",
      "Train Epoch:8  Step:3660  loss:0.719616294\n",
      "Train Epoch:8  Step:3680  loss:0.410814106\n",
      "Train Epoch:8  Step:3700  loss:1.812317371\n",
      "Train Epoch:8  Step:3720  loss:0.638718665\n",
      "Train Epoch:8  Step:3740  loss:0.723694205\n",
      "Train Epoch:8  Step:3760  loss:2.192577839\n",
      "Train Epoch:8  Step:3780  loss:1.726888299\n",
      "Train Epoch:8  Step:3800  loss:2.413030624\n",
      "Train Epoch:8  Step:3820  loss:2.760549784\n",
      "Train Epoch:8  Step:3840  loss:2.828702688\n",
      "Train Epoch:8  Step:3860  loss:3.639940739\n",
      "Train Epoch:8  Step:3880  loss:3.465357304\n"
     ]
    },
    {
     "name": "stdout",
     "output_type": "stream",
     "text": [
      "Train Epoch:8  Step:3900  loss:8.066586494\n",
      "Train Epoch:8  Step:3920  loss:4.112961292\n",
      "Train Epoch:8  Step:3940  loss:6.209924221\n",
      "Train Epoch:8  Step:3960  loss:6.907847881\n",
      "Train Epoch:8  Step:3980  loss:7.780960560\n",
      "Train Epoch:8  Step:4000  loss:10.746232033\n",
      "Train Epoch:9  Step:4020  loss:0.003495516\n",
      "Train Epoch:9  Step:4040  loss:0.312051088\n",
      "Train Epoch:9  Step:4060  loss:0.013212077\n",
      "Train Epoch:9  Step:4080  loss:0.009818281\n",
      "Train Epoch:9  Step:4100  loss:0.277545899\n",
      "Train Epoch:9  Step:4120  loss:0.202294096\n",
      "Train Epoch:9  Step:4140  loss:1.372691512\n",
      "Train Epoch:9  Step:4160  loss:0.532490253\n",
      "Train Epoch:9  Step:4180  loss:0.268751979\n",
      "Train Epoch:9  Step:4200  loss:1.487716913\n",
      "Train Epoch:9  Step:4220  loss:0.447185487\n",
      "Train Epoch:9  Step:4240  loss:0.513010025\n",
      "Train Epoch:9  Step:4260  loss:1.801809072\n",
      "Train Epoch:9  Step:4280  loss:1.372989535\n",
      "Train Epoch:9  Step:4300  loss:1.979975939\n",
      "Train Epoch:9  Step:4320  loss:2.284162045\n",
      "Train Epoch:9  Step:4340  loss:2.334532261\n",
      "Train Epoch:9  Step:4360  loss:3.063074112\n",
      "Train Epoch:9  Step:4380  loss:2.890646219\n",
      "Train Epoch:9  Step:4400  loss:7.157006264\n",
      "Train Epoch:9  Step:4420  loss:3.458422661\n",
      "Train Epoch:9  Step:4440  loss:5.383774757\n",
      "Train Epoch:9  Step:4460  loss:6.019331455\n",
      "Train Epoch:9  Step:4480  loss:6.820368290\n",
      "Train Epoch:9  Step:4500  loss:9.594271660\n",
      "Train Epoch:10  Step:4520  loss:0.000429745\n",
      "Train Epoch:10  Step:4540  loss:0.225752786\n",
      "Train Epoch:10  Step:4560  loss:0.000772437\n",
      "Train Epoch:10  Step:4580  loss:0.000067646\n",
      "Train Epoch:10  Step:4600  loss:0.186809838\n",
      "Train Epoch:10  Step:4620  loss:0.123465717\n",
      "Train Epoch:10  Step:4640  loss:1.143640995\n",
      "Train Epoch:10  Step:4660  loss:0.388967961\n",
      "Train Epoch:10  Step:4680  loss:0.166879326\n",
      "Train Epoch:10  Step:4700  loss:1.223112702\n",
      "Train Epoch:10  Step:4720  loss:0.303674042\n",
      "Train Epoch:10  Step:4740  loss:0.353690028\n",
      "Train Epoch:10  Step:4760  loss:1.480896950\n",
      "Train Epoch:10  Step:4780  loss:1.086821675\n",
      "Train Epoch:10  Step:4800  loss:1.623234391\n",
      "Train Epoch:10  Step:4820  loss:1.889295578\n",
      "Train Epoch:10  Step:4840  loss:1.924789906\n",
      "Train Epoch:10  Step:4860  loss:2.579101086\n",
      "Train Epoch:10  Step:4880  loss:2.409963846\n",
      "Train Epoch:10  Step:4900  loss:6.370505810\n",
      "Train Epoch:10  Step:4920  loss:2.907128096\n",
      "Train Epoch:10  Step:4940  loss:4.675896645\n",
      "Train Epoch:10  Step:4960  loss:5.255062103\n",
      "Train Epoch:10  Step:4980  loss:5.990592480\n",
      "Train Epoch:10  Step:5000  loss:8.588641167\n",
      "w: 1.5791892\n",
      "b: 1.9040188\n"
     ]
    },
    {
     "data": {
      "image/png": "[encoded data removed]",
      "text/plain": [
       "<Figure size 432x288 with 1 Axes>"
      ]
     },
     "metadata": {
      "needs_background": "light"
     },
     "output_type": "display_data"
    }
   ],
   "source": [
    "#开始进行迭代训练\n",
    "for epoch in range(train_epochs):\n",
    "    for xs,ys in zip(x_data,y_data):\n",
    "        _,loss = sess.run([optimizer,loss_function],feed_dict = {x:xs , y:ys})\n",
    "        loss_list.append(loss)     #将损失函数值增加到列表末端\n",
    "        step += 1     #步长加1\n",
    "        if step % display_step == 0:\n",
    "            print(\"Train Epoch:{0:d}  Step:{1:d}  loss:{2:.9f}\".format(epoch+1,step,loss))\n",
    "            \n",
    "    b0temp = b.eval(session = sess)\n",
    "    w0temp = w.eval(session = sess)\n",
    "    plt.plot(x_data,w0temp*x_data +b0temp)    #画预测图\n",
    "    \n",
    "print(\"w:\",sess.run(w))\n",
    "print(\"b:\",sess.run(b))"
   ]
  },
  {
   "cell_type": "code",
   "execution_count": 16,
   "metadata": {},
   "outputs": [
    {
     "name": "stdout",
     "output_type": "stream",
     "text": [
      "预测值：11.047523499\n",
      "目标值：21.064486000\n"
     ]
    }
   ],
   "source": [
    "#通过训练出的模型预测 x=5.79 时 y 的值\n",
    "x_test = 5.79\n",
    "\n",
    "predict = sess.run(pred,feed_dict={x:x_test})\n",
    "print(\"预测值：{:.9f}\".format(predict))\n",
    "\n",
    "target = 3.1234 * x_test + 2.98 \n",
    "print(\"目标值：{:.9f}\".format(target))\n"
   ]
  },
  {
   "cell_type": "code",
   "execution_count": 17,
   "metadata": {},
   "outputs": [],
   "source": [
    "#生成一个写日志的writer,并将当前的tensorflow计算图写入日志\n",
    "writer = tf.summary.FileWriter(logdir,tf.get_default_graph())\n",
    "writer.close()"
   ]
  },
  {
   "cell_type": "code",
   "execution_count": 18,
   "metadata": {},
   "outputs": [
    {
     "ename": "FileNotFoundError",
     "evalue": "[Errno 2] No such file or directory: 'D:\\\\Anaconda\\\\document\\\\prompt_xpc.png'",
     "output_type": "error",
     "traceback": [
      "\u001b[1;31m---------------------------------------------------------------------------\u001b[0m",
      "\u001b[1;31mFileNotFoundError\u001b[0m                         Traceback (most recent call last)",
      "\u001b[1;32m~\\AppData\\Local\\Temp/ipykernel_17728/2557326433.py\u001b[0m in \u001b[0;36m<module>\u001b[1;34m\u001b[0m\n\u001b[0;32m      1\u001b[0m \u001b[1;31m#备注:此处路径不能直接用windows自带的'\\'，而应当是'\\\\'\u001b[0m\u001b[1;33m\u001b[0m\u001b[1;33m\u001b[0m\u001b[1;33m\u001b[0m\u001b[0m\n\u001b[1;32m----> 2\u001b[1;33m \u001b[0mImage\u001b[0m\u001b[1;33m(\u001b[0m\u001b[0mfilename\u001b[0m \u001b[1;33m=\u001b[0m \u001b[1;34m'D:\\\\Anaconda\\\\document\\\\prompt_xpc.png'\u001b[0m\u001b[1;33m,\u001b[0m \u001b[0mwidth\u001b[0m\u001b[1;33m=\u001b[0m\u001b[1;36m600\u001b[0m\u001b[1;33m,\u001b[0m \u001b[0mheight\u001b[0m\u001b[1;33m=\u001b[0m\u001b[1;36m600\u001b[0m\u001b[1;33m)\u001b[0m \u001b[1;31m#prompt命令图\u001b[0m\u001b[1;33m\u001b[0m\u001b[1;33m\u001b[0m\u001b[0m\n\u001b[0m",
      "\u001b[1;32m~\\AppData\\Roaming\\Python\\Python37\\site-packages\\IPython\\core\\display.py\u001b[0m in \u001b[0;36m__init__\u001b[1;34m(self, data, url, filename, format, embed, width, height, retina, unconfined, metadata)\u001b[0m\n\u001b[0;32m   1230\u001b[0m         \u001b[0mself\u001b[0m\u001b[1;33m.\u001b[0m\u001b[0munconfined\u001b[0m \u001b[1;33m=\u001b[0m \u001b[0munconfined\u001b[0m\u001b[1;33m\u001b[0m\u001b[1;33m\u001b[0m\u001b[0m\n\u001b[0;32m   1231\u001b[0m         super(Image, self).__init__(data=data, url=url, filename=filename, \n\u001b[1;32m-> 1232\u001b[1;33m                 metadata=metadata)\n\u001b[0m\u001b[0;32m   1233\u001b[0m \u001b[1;33m\u001b[0m\u001b[0m\n\u001b[0;32m   1234\u001b[0m         \u001b[1;32mif\u001b[0m \u001b[0mself\u001b[0m\u001b[1;33m.\u001b[0m\u001b[0mwidth\u001b[0m \u001b[1;32mis\u001b[0m \u001b[1;32mNone\u001b[0m \u001b[1;32mand\u001b[0m \u001b[0mself\u001b[0m\u001b[1;33m.\u001b[0m\u001b[0mmetadata\u001b[0m\u001b[1;33m.\u001b[0m\u001b[0mget\u001b[0m\u001b[1;33m(\u001b[0m\u001b[1;34m'width'\u001b[0m\u001b[1;33m,\u001b[0m \u001b[1;33m{\u001b[0m\u001b[1;33m}\u001b[0m\u001b[1;33m)\u001b[0m\u001b[1;33m:\u001b[0m\u001b[1;33m\u001b[0m\u001b[1;33m\u001b[0m\u001b[0m\n",
      "\u001b[1;32m~\\AppData\\Roaming\\Python\\Python37\\site-packages\\IPython\\core\\display.py\u001b[0m in \u001b[0;36m__init__\u001b[1;34m(self, data, url, filename, metadata)\u001b[0m\n\u001b[0;32m    635\u001b[0m             \u001b[0mself\u001b[0m\u001b[1;33m.\u001b[0m\u001b[0mmetadata\u001b[0m \u001b[1;33m=\u001b[0m \u001b[1;33m{\u001b[0m\u001b[1;33m}\u001b[0m\u001b[1;33m\u001b[0m\u001b[1;33m\u001b[0m\u001b[0m\n\u001b[0;32m    636\u001b[0m \u001b[1;33m\u001b[0m\u001b[0m\n\u001b[1;32m--> 637\u001b[1;33m         \u001b[0mself\u001b[0m\u001b[1;33m.\u001b[0m\u001b[0mreload\u001b[0m\u001b[1;33m(\u001b[0m\u001b[1;33m)\u001b[0m\u001b[1;33m\u001b[0m\u001b[1;33m\u001b[0m\u001b[0m\n\u001b[0m\u001b[0;32m    638\u001b[0m         \u001b[0mself\u001b[0m\u001b[1;33m.\u001b[0m\u001b[0m_check_data\u001b[0m\u001b[1;33m(\u001b[0m\u001b[1;33m)\u001b[0m\u001b[1;33m\u001b[0m\u001b[1;33m\u001b[0m\u001b[0m\n\u001b[0;32m    639\u001b[0m \u001b[1;33m\u001b[0m\u001b[0m\n",
      "\u001b[1;32m~\\AppData\\Roaming\\Python\\Python37\\site-packages\\IPython\\core\\display.py\u001b[0m in \u001b[0;36mreload\u001b[1;34m(self)\u001b[0m\n\u001b[0;32m   1261\u001b[0m         \u001b[1;34m\"\"\"Reload the raw data from file or URL.\"\"\"\u001b[0m\u001b[1;33m\u001b[0m\u001b[1;33m\u001b[0m\u001b[0m\n\u001b[0;32m   1262\u001b[0m         \u001b[1;32mif\u001b[0m \u001b[0mself\u001b[0m\u001b[1;33m.\u001b[0m\u001b[0membed\u001b[0m\u001b[1;33m:\u001b[0m\u001b[1;33m\u001b[0m\u001b[1;33m\u001b[0m\u001b[0m\n\u001b[1;32m-> 1263\u001b[1;33m             \u001b[0msuper\u001b[0m\u001b[1;33m(\u001b[0m\u001b[0mImage\u001b[0m\u001b[1;33m,\u001b[0m\u001b[0mself\u001b[0m\u001b[1;33m)\u001b[0m\u001b[1;33m.\u001b[0m\u001b[0mreload\u001b[0m\u001b[1;33m(\u001b[0m\u001b[1;33m)\u001b[0m\u001b[1;33m\u001b[0m\u001b[1;33m\u001b[0m\u001b[0m\n\u001b[0m\u001b[0;32m   1264\u001b[0m             \u001b[1;32mif\u001b[0m \u001b[0mself\u001b[0m\u001b[1;33m.\u001b[0m\u001b[0mretina\u001b[0m\u001b[1;33m:\u001b[0m\u001b[1;33m\u001b[0m\u001b[1;33m\u001b[0m\u001b[0m\n\u001b[0;32m   1265\u001b[0m                 \u001b[0mself\u001b[0m\u001b[1;33m.\u001b[0m\u001b[0m_retina_shape\u001b[0m\u001b[1;33m(\u001b[0m\u001b[1;33m)\u001b[0m\u001b[1;33m\u001b[0m\u001b[1;33m\u001b[0m\u001b[0m\n",
      "\u001b[1;32m~\\AppData\\Roaming\\Python\\Python37\\site-packages\\IPython\\core\\display.py\u001b[0m in \u001b[0;36mreload\u001b[1;34m(self)\u001b[0m\n\u001b[0;32m    660\u001b[0m         \u001b[1;34m\"\"\"Reload the raw data from file or URL.\"\"\"\u001b[0m\u001b[1;33m\u001b[0m\u001b[1;33m\u001b[0m\u001b[0m\n\u001b[0;32m    661\u001b[0m         \u001b[1;32mif\u001b[0m \u001b[0mself\u001b[0m\u001b[1;33m.\u001b[0m\u001b[0mfilename\u001b[0m \u001b[1;32mis\u001b[0m \u001b[1;32mnot\u001b[0m \u001b[1;32mNone\u001b[0m\u001b[1;33m:\u001b[0m\u001b[1;33m\u001b[0m\u001b[1;33m\u001b[0m\u001b[0m\n\u001b[1;32m--> 662\u001b[1;33m             \u001b[1;32mwith\u001b[0m \u001b[0mopen\u001b[0m\u001b[1;33m(\u001b[0m\u001b[0mself\u001b[0m\u001b[1;33m.\u001b[0m\u001b[0mfilename\u001b[0m\u001b[1;33m,\u001b[0m \u001b[0mself\u001b[0m\u001b[1;33m.\u001b[0m\u001b[0m_read_flags\u001b[0m\u001b[1;33m)\u001b[0m \u001b[1;32mas\u001b[0m \u001b[0mf\u001b[0m\u001b[1;33m:\u001b[0m\u001b[1;33m\u001b[0m\u001b[1;33m\u001b[0m\u001b[0m\n\u001b[0m\u001b[0;32m    663\u001b[0m                 \u001b[0mself\u001b[0m\u001b[1;33m.\u001b[0m\u001b[0mdata\u001b[0m \u001b[1;33m=\u001b[0m \u001b[0mf\u001b[0m\u001b[1;33m.\u001b[0m\u001b[0mread\u001b[0m\u001b[1;33m(\u001b[0m\u001b[1;33m)\u001b[0m\u001b[1;33m\u001b[0m\u001b[1;33m\u001b[0m\u001b[0m\n\u001b[0;32m    664\u001b[0m         \u001b[1;32melif\u001b[0m \u001b[0mself\u001b[0m\u001b[1;33m.\u001b[0m\u001b[0murl\u001b[0m \u001b[1;32mis\u001b[0m \u001b[1;32mnot\u001b[0m \u001b[1;32mNone\u001b[0m\u001b[1;33m:\u001b[0m\u001b[1;33m\u001b[0m\u001b[1;33m\u001b[0m\u001b[0m\n",
      "\u001b[1;31mFileNotFoundError\u001b[0m: [Errno 2] No such file or directory: 'D:\\\\Anaconda\\\\document\\\\prompt_xpc.png'"
     ]
    }
   ],
   "source": [
    "#备注:此处路径不能直接用windows自带的'\\'，而应当是'\\\\'\n",
    "Image(filename = 'D:\\\\Anaconda\\\\document\\\\prompt_xpc.png', width=600, height=600) #prompt命令图"
   ]
  },
  {
   "cell_type": "code",
   "execution_count": null,
   "metadata": {},
   "outputs": [],
   "source": [
    "Image(filename = 'D:\\\\Anaconda\\\\document\\\\result_xpc.png', width=600, height=600)   #tensorboard可视化结果图"
   ]
  },
  {
   "cell_type": "code",
   "execution_count": null,
   "metadata": {},
   "outputs": [],
   "source": []
  },
  {
   "cell_type": "code",
   "execution_count": null,
   "metadata": {},
   "outputs": [],
   "source": []
  }
 ],
 "metadata": {
  "kernelspec": {
   "display_name": "Python 3 (ipykernel)",
   "language": "python",
   "name": "python3"
  },
  "language_info": {
   "codemirror_mode": {
    "name": "ipython",
    "version": 3
   },
   "file_extension": ".py",
   "mimetype": "text/x-python",
   "name": "python",
   "nbconvert_exporter": "python",
   "pygments_lexer": "ipython3",
   "version": "3.7.5"
  }
 },
 "nbformat": 4,
 "nbformat_minor": 4
}
