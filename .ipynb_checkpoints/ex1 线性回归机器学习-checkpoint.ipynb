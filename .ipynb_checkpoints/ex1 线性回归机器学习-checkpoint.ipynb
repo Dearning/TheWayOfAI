{
 "cells": [
  {
   "cell_type": "code",
   "execution_count": 2,
   "id": "65d4dc6b",
   "metadata": {},
   "outputs": [],
   "source": [
    "# tf2.0版本 \n",
    "%matplotlib inline\n",
    "import matplotlib.pyplot as plt\n",
    "import numpy as np\n",
    "import tensorflow as tf\n",
    "\n",
    "# tf.disable_eager_execution()         #可以用于从TensorFlow 1.x到2.x的复杂迁移项目的程序开头\n",
    "\n",
    "np.random.seed(5)#生成一个写日志的writer,并将当前的tensorflow计算图写入日志\n",
    "logdir = './log/ex1'\n",
    "writer = tf.summary.create_file_writer(logdir)\n",
    "tf.summary.trace_on(graph=True, profiler=True)  # 开启Trace，可以记录图结构和profile信息\n",
    "\n"
   ]
  },
  {
   "cell_type": "code",
   "execution_count": 3,
   "id": "f357de7a",
   "metadata": {},
   "outputs": [],
   "source": [
    "# 区间变换,[0,100]化为[-1,1]\n",
    "def Convert(data,Min,Max,size):\n",
    "    # data：需要变换的数据或矩阵\n",
    "    # Min：最小值        \n",
    "    # Max：最大值\n",
    "    #size:样本个数\n",
    "    data = np.array(data)\n",
    "    Size = size\n",
    "    w = -2/(Min - Max)\n",
    "    b = (Min + Max)/(Min - Max)\n",
    "    for i in range(Size):\n",
    "        data[i] = data[i]*w + b\n",
    "    return data"
   ]
  },
  {
   "cell_type": "code",
   "execution_count": 4,
   "id": "37eb66bc",
   "metadata": {},
   "outputs": [],
   "source": [
    "\n",
    "#等差数列生成 符合题目要求:1.生成 x_data，值为 [0, 100]之间500个等差数列数据集合作为样本特征\n",
    "x_data = np.linspace(0,100,500) # 这个linspace 别打错了\n",
    "x_data=Convert(x_data,0,100,500)#数据归一化\n",
    "a = 3.1234\n",
    "b = 2.98\n",
    "#根据目标线性方程 y=3.1234*x+2.98，生成相应的标签集合 y_data，1分；\n",
    "y = a * x_data + b\n",
    "y_data = a * x_data + b+ np.random.randn(*x_data.shape) * 0.4 #0.4噪声 视频要求 题目没要求\n"
   ]
  },
  {
   "cell_type": "code",
   "execution_count": 5,
   "id": "5921a482",
   "metadata": {},
   "outputs": [
    {
     "data": {
      "text/plain": [
       "[<matplotlib.lines.Line2D at 0x1ad03491a48>]"
      ]
     },
     "execution_count": 5,
     "metadata": {},
     "output_type": "execute_result"
    },
    {
     "data": {
      "image/png": "[encoded data removed]",
      "text/plain": [
       "<Figure size 432x288 with 1 Axes>"
      ]
     },
     "metadata": {
      "needs_background": "light"
     },
     "output_type": "display_data"
    }
   ],
   "source": [
    "#2.画出随机生成数据的散点图和想要通过学习得到的目标线性函数 y=3.1234*x+2.98\n",
    "plt.scatter(x_data,y_data)\n",
    "plt.plot(x_data,y,color='r',linewidth=2)\n",
    "#help(plt.plor)"
   ]
  },
  {
   "cell_type": "code",
   "execution_count": 6,
   "id": "6dbb41b2",
   "metadata": {},
   "outputs": [],
   "source": [
    "#构建模型 3.构建回归模型\n",
    "\n",
    "def model(x,w,b):\n",
    "    return tf.multiply(x,w)+b\n",
    "\n",
    "w = tf.Variable(np.random.randn(),tf.float32) # 去了名字 加了数据类型\n",
    "b = tf.Variable(0.0,tf.float32)"
   ]
  },
  {
   "cell_type": "code",
   "execution_count": 7,
   "id": "80b8049c",
   "metadata": {},
   "outputs": [],
   "source": [
    "# 损失函数模型\n",
    "def loss(x,y,w,b):\n",
    "    err = model (x,w,b) -y\n",
    "    squared_err = tf.square(err)\n",
    "    return tf.reduce_mean(squared_err)"
   ]
  },
  {
   "cell_type": "code",
   "execution_count": 8,
   "id": "538c4b25",
   "metadata": {},
   "outputs": [],
   "source": [
    "#参数\n",
    "\n",
    "#训练模型，10轮，每训练20个样本显示损失值\n",
    "train_epochs = 10\n",
    "learning_rate = 0.01"
   ]
  },
  {
   "cell_type": "code",
   "execution_count": 9,
   "id": "735abf08",
   "metadata": {},
   "outputs": [],
   "source": [
    "# 梯度\n",
    "def grad(x,y,w,b):\n",
    "    # tf.GradientTape() tf2 1 区别 梯度带\n",
    "    with tf.GradientTape() as tape:\n",
    "        loss_ =loss(x,y,w,b) # 不需要优化器\n",
    "    return tape.gradient(loss_,[w,b])"
   ]
  },
  {
   "cell_type": "code",
   "execution_count": 10,
   "id": "a26f7f0d",
   "metadata": {},
   "outputs": [
    {
     "name": "stdout",
     "output_type": "stream",
     "text": [
      "Train Epoch: 01 Step:020 loss:0.673401\n",
      "Train Epoch: 01 Step:040 loss:1.050885\n",
      "Train Epoch: 01 Step:060 loss:0.115097\n",
      "Train Epoch: 01 Step:080 loss:0.060810\n",
      "Train Epoch: 01 Step:100 loss:0.301238\n",
      "Train Epoch: 01 Step:120 loss:0.142188\n",
      "Train Epoch: 01 Step:140 loss:1.037130\n",
      "Train Epoch: 01 Step:160 loss:0.200668\n",
      "Train Epoch: 01 Step:180 loss:0.024176\n",
      "Train Epoch: 01 Step:200 loss:0.593344\n",
      "Train Epoch: 01 Step:220 loss:0.020831\n",
      "Train Epoch: 01 Step:240 loss:0.012264\n",
      "Train Epoch: 01 Step:260 loss:0.381503\n",
      "Train Epoch: 01 Step:280 loss:0.091511\n",
      "Train Epoch: 01 Step:300 loss:0.207207\n",
      "Train Epoch: 01 Step:320 loss:0.125631\n",
      "Train Epoch: 01 Step:340 loss:0.066795\n",
      "Train Epoch: 01 Step:360 loss:0.102405\n",
      "Train Epoch: 01 Step:380 loss:0.010901\n",
      "Train Epoch: 01 Step:400 loss:0.780505\n",
      "Train Epoch: 01 Step:420 loss:0.002678\n",
      "Train Epoch: 01 Step:440 loss:0.055118\n",
      "Train Epoch: 01 Step:460 loss:0.052850\n",
      "Train Epoch: 01 Step:480 loss:0.048847\n",
      "Train Epoch: 01 Step:500 loss:0.369717\n",
      "Train Epoch: 02 Step:520 loss:2.473912\n",
      "Train Epoch: 02 Step:540 loss:0.051028\n",
      "Train Epoch: 02 Step:560 loss:0.178133\n",
      "Train Epoch: 02 Step:580 loss:0.090846\n",
      "Train Epoch: 02 Step:600 loss:0.008096\n",
      "Train Epoch: 02 Step:620 loss:0.002669\n",
      "Train Epoch: 02 Step:640 loss:0.348603\n",
      "Train Epoch: 02 Step:660 loss:0.000034\n",
      "Train Epoch: 02 Step:680 loss:0.094951\n",
      "Train Epoch: 02 Step:700 loss:0.079824\n",
      "Train Epoch: 02 Step:720 loss:0.134705\n",
      "Train Epoch: 02 Step:740 loss:0.177371\n",
      "Train Epoch: 02 Step:760 loss:0.004948\n",
      "Train Epoch: 02 Step:780 loss:0.064187\n",
      "Train Epoch: 02 Step:800 loss:0.010209\n",
      "Train Epoch: 02 Step:820 loss:0.037347\n",
      "Train Epoch: 02 Step:840 loss:0.073820\n",
      "Train Epoch: 02 Step:860 loss:0.033926\n",
      "Train Epoch: 02 Step:880 loss:0.134499\n",
      "Train Epoch: 02 Step:900 loss:0.203072\n",
      "Train Epoch: 02 Step:920 loss:0.196366\n",
      "Train Epoch: 02 Step:940 loss:0.013047\n",
      "Train Epoch: 02 Step:960 loss:0.006044\n",
      "Train Epoch: 02 Step:980 loss:0.002287\n",
      "Train Epoch: 02 Step:1000 loss:0.140193\n",
      "Train Epoch: 03 Step:1020 loss:0.004301\n",
      "Train Epoch: 03 Step:1040 loss:0.274909\n",
      "Train Epoch: 03 Step:1060 loss:0.004346\n",
      "Train Epoch: 03 Step:1080 loss:0.017203\n",
      "Train Epoch: 03 Step:1100 loss:0.027891\n",
      "Train Epoch: 03 Step:1120 loss:0.000598\n",
      "Train Epoch: 03 Step:1140 loss:0.347083\n",
      "Train Epoch: 03 Step:1160 loss:0.000169\n",
      "Train Epoch: 03 Step:1180 loss:0.114608\n",
      "Train Epoch: 03 Step:1200 loss:0.059537\n",
      "Train Epoch: 03 Step:1220 loss:0.169325\n",
      "Train Epoch: 03 Step:1240 loss:0.220886\n",
      "Train Epoch: 03 Step:1260 loss:0.000340\n",
      "Train Epoch: 03 Step:1280 loss:0.094324\n",
      "Train Epoch: 03 Step:1300 loss:0.024193\n",
      "Train Epoch: 03 Step:1320 loss:0.061195\n",
      "Train Epoch: 03 Step:1340 loss:0.105227\n",
      "Train Epoch: 03 Step:1360 loss:0.054989\n",
      "Train Epoch: 03 Step:1380 loss:0.171293\n",
      "Train Epoch: 03 Step:1400 loss:0.165854\n",
      "Train Epoch: 03 Step:1420 loss:0.232722\n",
      "Train Epoch: 03 Step:1440 loss:0.022285\n",
      "Train Epoch: 03 Step:1460 loss:0.011808\n",
      "Train Epoch: 03 Step:1480 loss:0.005603\n",
      "Train Epoch: 03 Step:1500 loss:0.123150\n",
      "Train Epoch: 04 Step:1520 loss:0.053096\n",
      "Train Epoch: 04 Step:1540 loss:0.359756\n",
      "Train Epoch: 04 Step:1560 loss:0.000906\n",
      "Train Epoch: 04 Step:1580 loss:0.013003\n",
      "Train Epoch: 04 Step:1600 loss:0.030540\n",
      "Train Epoch: 04 Step:1620 loss:0.000471\n",
      "Train Epoch: 04 Step:1640 loss:0.346931\n",
      "Train Epoch: 04 Step:1660 loss:0.000222\n",
      "Train Epoch: 04 Step:1680 loss:0.116687\n",
      "Train Epoch: 04 Step:1700 loss:0.057661\n",
      "Train Epoch: 04 Step:1720 loss:0.173026\n",
      "Train Epoch: 04 Step:1740 loss:0.225527\n",
      "Train Epoch: 04 Step:1760 loss:0.000175\n",
      "Train Epoch: 04 Step:1780 loss:0.097675\n",
      "Train Epoch: 04 Step:1800 loss:0.025929\n",
      "Train Epoch: 04 Step:1820 loss:0.063918\n",
      "Train Epoch: 04 Step:1840 loss:0.108694\n",
      "Train Epoch: 04 Step:1860 loss:0.057387\n",
      "Train Epoch: 04 Step:1880 loss:0.175241\n",
      "Train Epoch: 04 Step:1900 loss:0.162318\n",
      "Train Epoch: 04 Step:1920 loss:0.236549\n",
      "Train Epoch: 04 Step:1940 loss:0.023350\n",
      "Train Epoch: 04 Step:1960 loss:0.012494\n",
      "Train Epoch: 04 Step:1980 loss:0.006018\n",
      "Train Epoch: 04 Step:2000 loss:0.121496\n",
      "Train Epoch: 05 Step:2020 loss:0.061012\n",
      "Train Epoch: 05 Step:2040 loss:0.368921\n",
      "Train Epoch: 05 Step:2060 loss:0.000702\n",
      "Train Epoch: 05 Step:2080 loss:0.012613\n",
      "Train Epoch: 05 Step:2100 loss:0.030813\n",
      "Train Epoch: 05 Step:2120 loss:0.000459\n",
      "Train Epoch: 05 Step:2140 loss:0.346916\n",
      "Train Epoch: 05 Step:2160 loss:0.000228\n",
      "Train Epoch: 05 Step:2180 loss:0.116897\n",
      "Train Epoch: 05 Step:2200 loss:0.057474\n",
      "Train Epoch: 05 Step:2220 loss:0.173401\n",
      "Train Epoch: 05 Step:2240 loss:0.225997\n",
      "Train Epoch: 05 Step:2260 loss:0.000161\n",
      "Train Epoch: 05 Step:2280 loss:0.098016\n",
      "Train Epoch: 05 Step:2300 loss:0.026107\n",
      "Train Epoch: 05 Step:2320 loss:0.064196\n",
      "Train Epoch: 05 Step:2340 loss:0.109046\n",
      "Train Epoch: 05 Step:2360 loss:0.057632\n",
      "Train Epoch: 05 Step:2380 loss:0.175641\n",
      "Train Epoch: 05 Step:2400 loss:0.161965\n",
      "Train Epoch: 05 Step:2420 loss:0.236937\n",
      "Train Epoch: 05 Step:2440 loss:0.023458\n",
      "Train Epoch: 05 Step:2460 loss:0.012564\n",
      "Train Epoch: 05 Step:2480 loss:0.006060\n",
      "Train Epoch: 05 Step:2500 loss:0.121330\n",
      "Train Epoch: 06 Step:2520 loss:0.061839\n",
      "Train Epoch: 06 Step:2540 loss:0.369850\n",
      "Train Epoch: 06 Step:2560 loss:0.000683\n",
      "Train Epoch: 06 Step:2580 loss:0.012575\n",
      "Train Epoch: 06 Step:2600 loss:0.030841\n",
      "Train Epoch: 06 Step:2620 loss:0.000458\n",
      "Train Epoch: 06 Step:2640 loss:0.346914\n",
      "Train Epoch: 06 Step:2660 loss:0.000229\n",
      "Train Epoch: 06 Step:2680 loss:0.116919\n",
      "Train Epoch: 06 Step:2700 loss:0.057455\n",
      "Train Epoch: 06 Step:2720 loss:0.173438\n",
      "Train Epoch: 06 Step:2740 loss:0.226044\n",
      "Train Epoch: 06 Step:2760 loss:0.000160\n",
      "Train Epoch: 06 Step:2780 loss:0.098050\n",
      "Train Epoch: 06 Step:2800 loss:0.026124\n",
      "Train Epoch: 06 Step:2820 loss:0.064223\n",
      "Train Epoch: 06 Step:2840 loss:0.109081\n",
      "Train Epoch: 06 Step:2860 loss:0.057656\n",
      "Train Epoch: 06 Step:2880 loss:0.175681\n",
      "Train Epoch: 06 Step:2900 loss:0.161929\n",
      "Train Epoch: 06 Step:2920 loss:0.236975\n",
      "Train Epoch: 06 Step:2940 loss:0.023469\n",
      "Train Epoch: 06 Step:2960 loss:0.012571\n",
      "Train Epoch: 06 Step:2980 loss:0.006065\n",
      "Train Epoch: 06 Step:3000 loss:0.121314\n",
      "Train Epoch: 07 Step:3020 loss:0.061923\n",
      "Train Epoch: 07 Step:3040 loss:0.369944\n",
      "Train Epoch: 07 Step:3060 loss:0.000681\n",
      "Train Epoch: 07 Step:3080 loss:0.012571\n",
      "Train Epoch: 07 Step:3100 loss:0.030843\n",
      "Train Epoch: 07 Step:3120 loss:0.000458\n",
      "Train Epoch: 07 Step:3140 loss:0.346914\n",
      "Train Epoch: 07 Step:3160 loss:0.000229\n",
      "Train Epoch: 07 Step:3180 loss:0.116921\n",
      "Train Epoch: 07 Step:3200 loss:0.057453\n",
      "Train Epoch: 07 Step:3220 loss:0.173442\n",
      "Train Epoch: 07 Step:3240 loss:0.226049\n",
      "Train Epoch: 07 Step:3260 loss:0.000160\n",
      "Train Epoch: 07 Step:3280 loss:0.098054\n",
      "Train Epoch: 07 Step:3300 loss:0.026126\n",
      "Train Epoch: 07 Step:3320 loss:0.064226\n",
      "Train Epoch: 07 Step:3340 loss:0.109085\n",
      "Train Epoch: 07 Step:3360 loss:0.057659\n",
      "Train Epoch: 07 Step:3380 loss:0.175686\n",
      "Train Epoch: 07 Step:3400 loss:0.161925\n",
      "Train Epoch: 07 Step:3420 loss:0.236980\n",
      "Train Epoch: 07 Step:3440 loss:0.023471\n",
      "Train Epoch: 07 Step:3460 loss:0.012572\n",
      "Train Epoch: 07 Step:3480 loss:0.006065\n",
      "Train Epoch: 07 Step:3500 loss:0.121312\n",
      "Train Epoch: 08 Step:3520 loss:0.061932\n",
      "Train Epoch: 08 Step:3540 loss:0.369954\n",
      "Train Epoch: 08 Step:3560 loss:0.000681\n",
      "Train Epoch: 08 Step:3580 loss:0.012570\n",
      "Train Epoch: 08 Step:3600 loss:0.030844\n",
      "Train Epoch: 08 Step:3620 loss:0.000458\n",
      "Train Epoch: 08 Step:3640 loss:0.346914\n",
      "Train Epoch: 08 Step:3660 loss:0.000229\n",
      "Train Epoch: 08 Step:3680 loss:0.116922\n",
      "Train Epoch: 08 Step:3700 loss:0.057452\n",
      "Train Epoch: 08 Step:3720 loss:0.173443\n",
      "Train Epoch: 08 Step:3740 loss:0.226050\n",
      "Train Epoch: 08 Step:3760 loss:0.000160\n",
      "Train Epoch: 08 Step:3780 loss:0.098054\n",
      "Train Epoch: 08 Step:3800 loss:0.026127\n",
      "Train Epoch: 08 Step:3820 loss:0.064227\n",
      "Train Epoch: 08 Step:3840 loss:0.109086\n",
      "Train Epoch: 08 Step:3860 loss:0.057660\n",
      "Train Epoch: 08 Step:3880 loss:0.175686\n",
      "Train Epoch: 08 Step:3900 loss:0.161925\n",
      "Train Epoch: 08 Step:3920 loss:0.236980\n",
      "Train Epoch: 08 Step:3940 loss:0.023471\n",
      "Train Epoch: 08 Step:3960 loss:0.012572\n",
      "Train Epoch: 08 Step:3980 loss:0.006065\n",
      "Train Epoch: 08 Step:4000 loss:0.121312\n",
      "Train Epoch: 09 Step:4020 loss:0.061933\n",
      "Train Epoch: 09 Step:4040 loss:0.369956\n",
      "Train Epoch: 09 Step:4060 loss:0.000680\n",
      "Train Epoch: 09 Step:4080 loss:0.012570\n",
      "Train Epoch: 09 Step:4100 loss:0.030844\n",
      "Train Epoch: 09 Step:4120 loss:0.000458\n",
      "Train Epoch: 09 Step:4140 loss:0.346914\n"
     ]
    },
    {
     "name": "stdout",
     "output_type": "stream",
     "text": [
      "Train Epoch: 09 Step:4160 loss:0.000229\n",
      "Train Epoch: 09 Step:4180 loss:0.116922\n",
      "Train Epoch: 09 Step:4200 loss:0.057452\n",
      "Train Epoch: 09 Step:4220 loss:0.173443\n",
      "Train Epoch: 09 Step:4240 loss:0.226050\n",
      "Train Epoch: 09 Step:4260 loss:0.000160\n",
      "Train Epoch: 09 Step:4280 loss:0.098054\n",
      "Train Epoch: 09 Step:4300 loss:0.026127\n",
      "Train Epoch: 09 Step:4320 loss:0.064227\n",
      "Train Epoch: 09 Step:4340 loss:0.109086\n",
      "Train Epoch: 09 Step:4360 loss:0.057659\n",
      "Train Epoch: 09 Step:4380 loss:0.175686\n",
      "Train Epoch: 09 Step:4400 loss:0.161925\n",
      "Train Epoch: 09 Step:4420 loss:0.236980\n",
      "Train Epoch: 09 Step:4440 loss:0.023471\n",
      "Train Epoch: 09 Step:4460 loss:0.012572\n",
      "Train Epoch: 09 Step:4480 loss:0.006065\n",
      "Train Epoch: 09 Step:4500 loss:0.121312\n",
      "Train Epoch: 10 Step:4520 loss:0.061933\n",
      "Train Epoch: 10 Step:4540 loss:0.369956\n",
      "Train Epoch: 10 Step:4560 loss:0.000680\n",
      "Train Epoch: 10 Step:4580 loss:0.012570\n",
      "Train Epoch: 10 Step:4600 loss:0.030844\n",
      "Train Epoch: 10 Step:4620 loss:0.000458\n",
      "Train Epoch: 10 Step:4640 loss:0.346914\n",
      "Train Epoch: 10 Step:4660 loss:0.000229\n",
      "Train Epoch: 10 Step:4680 loss:0.116921\n",
      "Train Epoch: 10 Step:4700 loss:0.057453\n",
      "Train Epoch: 10 Step:4720 loss:0.173443\n",
      "Train Epoch: 10 Step:4740 loss:0.226050\n",
      "Train Epoch: 10 Step:4760 loss:0.000160\n",
      "Train Epoch: 10 Step:4780 loss:0.098054\n",
      "Train Epoch: 10 Step:4800 loss:0.026127\n",
      "Train Epoch: 10 Step:4820 loss:0.064227\n",
      "Train Epoch: 10 Step:4840 loss:0.109085\n",
      "Train Epoch: 10 Step:4860 loss:0.057660\n",
      "Train Epoch: 10 Step:4880 loss:0.175686\n",
      "Train Epoch: 10 Step:4900 loss:0.161925\n",
      "Train Epoch: 10 Step:4920 loss:0.236980\n",
      "Train Epoch: 10 Step:4940 loss:0.023471\n",
      "Train Epoch: 10 Step:4960 loss:0.012572\n",
      "Train Epoch: 10 Step:4980 loss:0.006065\n",
      "Train Epoch: 10 Step:5000 loss:0.121312\n"
     ]
    },
    {
     "data": {
      "image/png": "[encoded data removed]",
      "text/plain": [
       "<Figure size 432x288 with 1 Axes>"
      ]
     },
     "metadata": {
      "needs_background": "light"
     },
     "output_type": "display_data"
    }
   ],
   "source": [
    "\n",
    "#训练步数\n",
    "print_step = 20# 20个样本显示瞬时\n",
    "step = 0\n",
    "loss_list = []   #初始化空列表，用于保存损失值\n",
    "\n",
    "for epoch in range(train_epochs):\n",
    "    for xs,ys in zip(x_data,y_data):\n",
    "#         _,loss = loss(xs,ys,w,b)\n",
    "        loss_ = loss(xs,ys,w,b) #计算损失\n",
    "#         sess.run([optimizer,loss_function],feed_dict={x:xs, y:ys})\n",
    "        loss_list.append(loss_)     #将损失函数值增加到列表末端\n",
    "        delta_w,delta_b = grad(xs,ys,w,b)\n",
    "        change_w = delta_w * learning_rate\n",
    "        change_b = delta_b * learning_rate\n",
    "        w.assign_sub(change_w)\n",
    "        b.assign_sub(change_b)\n",
    "        step += 1     #步长加1\n",
    "        if step % print_step == 0:\n",
    "            print(\"Train Epoch:\",'%02d' %(epoch+1),\"Step:%03d\" % (step),\"loss:%.6f\"%(loss_))\n",
    "            \n",
    "    plt.plot(x_data, w.numpy()*x_data+b.numpy())\n",
    "\n",
    "            "
   ]
  },
  {
   "cell_type": "code",
   "execution_count": 11,
   "id": "59d48de0",
   "metadata": {},
   "outputs": [
    {
     "name": "stdout",
     "output_type": "stream",
     "text": [
      "w: 3.0944626\n",
      "b: 2.9838445\n"
     ]
    }
   ],
   "source": [
    "\n",
    "print(\"w:\",w.numpy())\n",
    "print(\"b:\",b.numpy())"
   ]
  },
  {
   "cell_type": "code",
   "execution_count": 12,
   "id": "656820d3",
   "metadata": {},
   "outputs": [
    {
     "data": {
      "text/plain": [
       "<matplotlib.legend.Legend at 0x1ad067e7d88>"
      ]
     },
     "execution_count": 12,
     "metadata": {},
     "output_type": "execute_result"
    },
    {
     "data": {
      "image/png": "[encoded data removed]",
      "text/plain": [
       "<Figure size 432x288 with 1 Axes>"
      ]
     },
     "metadata": {
      "needs_background": "light"
     },
     "output_type": "display_data"
    }
   ],
   "source": [
    "\n",
    "plt.scatter(x_data,y_data,label='Original data')\n",
    "plt.plot(x_data,y_data*w.numpy() + b.numpy(),label='Fitted line',color='r',linewidth=3)\n",
    "plt.plot(x_data,y,label='object line',color='g',linewidth=3)\n",
    "plt.legend(loc=2)\n",
    "        "
   ]
  },
  {
   "cell_type": "code",
   "execution_count": 13,
   "id": "a826a069",
   "metadata": {},
   "outputs": [
    {
     "data": {
      "text/plain": [
       "[<matplotlib.lines.Line2D at 0x1ad067c7448>]"
      ]
     },
     "execution_count": 13,
     "metadata": {},
     "output_type": "execute_result"
    },
    {
     "data": {
      "image/png": "[encoded data removed]",
      "text/plain": [
       "<Figure size 432x288 with 1 Axes>"
      ]
     },
     "metadata": {
      "needs_background": "light"
     },
     "output_type": "display_data"
    }
   ],
   "source": [
    "plt.plot(loss_list,'r+')"
   ]
  },
  {
   "cell_type": "code",
   "execution_count": 14,
   "id": "5aa3c442",
   "metadata": {},
   "outputs": [
    {
     "name": "stdout",
     "output_type": "stream",
     "text": [
      "预测值：20.900783539\n",
      "目标值：21.064486000\n"
     ]
    }
   ],
   "source": [
    "\n",
    "    #6.通过训练出的模型预测 x=5.79 时 y 的值\n",
    "x_test = 5.79\n",
    "\n",
    "predict = model(x_test,w.numpy(),b.numpy())\n",
    "print(\"预测值：{:.9f}\".format(predict))\n",
    "\n",
    "target = 3.1234 * x_test + 2.98 \n",
    "print(\"目标值：{:.9f}\".format(target))"
   ]
  },
  {
   "cell_type": "code",
   "execution_count": 18,
   "id": "e5b93eda",
   "metadata": {},
   "outputs": [
    {
     "data": {
      "text/plain": [
       "<bound method _ResourceSummaryWriter.close of <tensorflow.python.ops.summary_ops_v2._ResourceSummaryWriter object at 0x000001AD03331888>>"
      ]
     },
     "execution_count": 18,
     "metadata": {},
     "output_type": "execute_result"
    }
   ],
   "source": [
    "\n",
    "\n",
    "# \"\"\"\n",
    "# 进行训练\n",
    "# \"\"\"\n",
    "# 最后将统计信息写入日志\n",
    "with writer.as_default():\n",
    "    tf.summary.trace_export(name=\"model_trace\", step=0, profiler_outdir=logdir)    # 保存Trace信息到文件\n",
    "# writer=tf.summary.FileWriter(logdir, tf.get_default_graph())\n",
    "writer = tf.summary.create_file_writer(logdir)\n",
    "writer.close\n",
    "# with writer.as_default():\n",
    "#     tf.summary.trace_export(name=\"model_trace\", step=0, profiler_outdir=log_dir)    # 保存Trace信息到文件"
   ]
  },
  {
   "cell_type": "code",
   "execution_count": null,
   "id": "6044952a",
   "metadata": {},
   "outputs": [],
   "source": []
  }
 ],
 "metadata": {
  "kernelspec": {
   "display_name": "Python 3 (ipykernel)",
   "language": "python",
   "name": "python3"
  },
  "language_info": {
   "codemirror_mode": {
    "name": "ipython",
    "version": 3
   },
   "file_extension": ".py",
   "mimetype": "text/x-python",
   "name": "python",
   "nbconvert_exporter": "python",
   "pygments_lexer": "ipython3",
   "version": "3.7.5"
  }
 },
 "nbformat": 4,
 "nbformat_minor": 5
}
